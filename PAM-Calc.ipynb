{
  "nbformat": 4,
  "nbformat_minor": 0,
  "metadata": {
    "colab": {
      "provenance": [],
      "authorship_tag": "ABX9TyOcAQ3T6uNI1eYE62T2NjlH",
      "include_colab_link": true
    },
    "kernelspec": {
      "name": "python3",
      "display_name": "Python 3"
    },
    "language_info": {
      "name": "python"
    }
  },
  "cells": [
    {
      "cell_type": "markdown",
      "metadata": {
        "id": "view-in-github",
        "colab_type": "text"
      },
      "source": [
        "<a href=\"https://colab.research.google.com/github/rruiz0512/modulo1/blob/main/PAM-Calc.ipynb\" target=\"_parent\"><img src=\"https://colab.research.google.com/assets/colab-badge.svg\" alt=\"Open In Colab\"/></a>"
      ]
    },
    {
      "cell_type": "code",
      "execution_count": null,
      "metadata": {
        "colab": {
          "base_uri": "https://localhost:8080/"
        },
        "id": "3wA0Jxe2QHY6",
        "outputId": "e4b5f19a-f117-454a-df6a-0f1aea80a123"
      },
      "outputs": [
        {
          "output_type": "stream",
          "name": "stdout",
          "text": [
            "=== Calculadora de Pressão Arterial Média (PAM) ===\n",
            "Digite a Pressão Arterial Sistólica (PAS): 90\n",
            "Digite a Pressão Arterial Diastólica (PAD): 35\n",
            "\n",
            "A Pressão Arterial Média (PAM) é: 53.33 mmHg\n",
            "⚠️ PAM baixa. Atenção clínica necessária.\n",
            "\n",
            "Deseja calcular novamente? (s/n): s\n",
            "Digite a Pressão Arterial Sistólica (PAS): 76\n",
            "Digite a Pressão Arterial Diastólica (PAD): 40\n",
            "\n",
            "A Pressão Arterial Média (PAM) é: 52.00 mmHg\n",
            "⚠️ PAM baixa. Atenção clínica necessária.\n",
            "\n",
            "Deseja calcular novamente? (s/n): s\n",
            "Digite a Pressão Arterial Sistólica (PAS): 125\n",
            "Digite a Pressão Arterial Diastólica (PAD): 60\n",
            "\n",
            "A Pressão Arterial Média (PAM) é: 81.67 mmHg\n",
            "✅ PAM dentro da faixa considerada adequada.\n",
            "\n",
            "Deseja calcular novamente? (s/n): s\n",
            "Digite a Pressão Arterial Sistólica (PAS): 85\n",
            "Digite a Pressão Arterial Diastólica (PAD): 40\n",
            "\n",
            "A Pressão Arterial Média (PAM) é: 55.00 mmHg\n",
            "⚠️ PAM baixa. Atenção clínica necessária.\n"
          ]
        }
      ],
      "source": [
        "# Calculadora de PAM\n",
        "\n",
        "print(\"=== Calculadora de Pressão Arterial Média (PAM) ===\")\n",
        "\n",
        "while True:\n",
        "    try:\n",
        "        pas = float(input(\"Digite a Pressão Arterial Sistólica (PAS): \"))\n",
        "        pad = float(input(\"Digite a Pressão Arterial Diastólica (PAD): \"))\n",
        "\n",
        "        pam = (pas + 2 * pad) / 3\n",
        "        print(f\"\\nA Pressão Arterial Média (PAM) é: {pam:.2f} mmHg\")\n",
        "\n",
        "        # Interpretação básica do valor da PAM (opcional)\n",
        "        if pam < 70:\n",
        "            print(\"⚠️ PAM baixa. Atenção clínica necessária.\")\n",
        "        elif pam > 110:\n",
        "            print(\"⚠️ PAM elevada. Pode indicar hipertensão.\")\n",
        "        else:\n",
        "            print(\"✅ PAM dentro da faixa considerada adequada.\")\n",
        "\n",
        "    except ValueError:\n",
        "        print(\"Erro: por favor, digite valores numéricos válidos.\")\n",
        "        continue\n",
        "\n",
        "    # Pergunta se o usuário quer repetir\n",
        "    repetir = input(\"\\nDeseja calcular novamente? (s/n): \")\n",
        "    if repetir.lower() != 's':\n",
        "        print(\"Encerrando a calculadora. Até logo!\")\n",
        "        break\n"
      ]
    }
  ]
}